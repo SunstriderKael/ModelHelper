{
 "cells": [
  {
   "cell_type": "code",
   "execution_count": null,
   "metadata": {},
   "outputs": [],
   "source": [
    "from ModelHelper.Recognition.RecognitionModels.Template import SarRecognitionTemplate\n",
    "\n",
    "if __name__ == '__main__':\n",
    "    word_index_path = '/recognition/alphabeta.txt'\n",
    "    template = SarRecognitionTemplate(word_index_path)\n",
    "    train_folder = '/recognition/train'\n",
    "    test_folder = '/recognition/test'\n",
    "    output_folder = '/recognition/output'\n",
    "    model_name = 'Resnet50SarRecognitionModel'\n",
    "    template.run(train_folder=train_folder, test_folder=test_folder, output_folder=output_folder, model_name=model_name)\n"
   ]
  }
 ],
 "metadata": {
  "kernelspec": {
   "display_name": "Python 3",
   "language": "python",
   "name": "python3"
  },
  "language_info": {
   "codemirror_mode": {
    "name": "ipython",
    "version": 3
   },
   "file_extension": ".py",
   "mimetype": "text/x-python",
   "name": "python",
   "nbconvert_exporter": "python",
   "pygments_lexer": "ipython3",
   "version": "3.6.8"
  }
 },
 "nbformat": 4,
 "nbformat_minor": 2
}
