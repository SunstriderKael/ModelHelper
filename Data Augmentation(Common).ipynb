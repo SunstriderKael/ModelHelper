{
 "cells": [
  {
   "cell_type": "markdown",
   "metadata": {},
   "source": [
    "## 数据增强\n",
    "### 通用"
   ]
  },
  {
   "cell_type": "markdown",
   "metadata": {},
   "source": [
    "#### Compose"
   ]
  },
  {
   "cell_type": "code",
   "execution_count": null,
   "metadata": {},
   "outputs": [],
   "source": [
    "from ModelHelper.Common.CommonUtils.ImageAugmentation import SaltNoise, GaussianBlur, Compose\n",
    "import cv2\n",
    "\n",
    "if __name__ == '__main__':\n",
    "    img_path = 'input2.jpg'\n",
    "    save_path = 'output.jpg'\n",
    "    image = cv2.imread(img_path)\n",
    "    compose = Compose([GaussianBlur(),\n",
    "                      SaltNoise(0.01)])\n",
    "    image = compose(image)\n",
    "    cv2.imwrite(save_path, image)\n"
   ]
  },
  {
   "cell_type": "markdown",
   "metadata": {},
   "source": [
    "#### RandomDistort 随机扭曲\n",
    "主要用于OCR文本图像的数据增强。"
   ]
  },
  {
   "cell_type": "code",
   "execution_count": null,
   "metadata": {},
   "outputs": [],
   "source": [
    "from ModelHelper.Common.CommonUtils.ImageAugmentation import RandomDistort\n",
    "import cv2\n",
    "\n",
    "if __name__ == '__main__':\n",
    "    img_path = 'input1.jpg'\n",
    "    save_path = 'random_distort_output.jpg'\n",
    "    image = cv2.imread(img_path)\n",
    "    random_distort = RandomDistort(20, 0.1)\n",
    "    image = random_distort(image)\n",
    "    cv2.imwrite(save_path, image)\n"
   ]
  },
  {
   "cell_type": "markdown",
   "metadata": {},
   "source": [
    "首先构建RandomDistort对象，random_distort = RandomDistort(20, 0.1)；其中20表示将图横向分为20块，0.1表示扭曲程度，值越大扭曲越剧烈。输入，输出图像如下所示：\n",
    "\n",
    "输入：\n",
    "<img src='imgs/input1.jpg'>\n",
    "\n",
    "输出:\n",
    "<img src='imgs/random_distort_output.jpg'>"
   ]
  },
  {
   "cell_type": "markdown",
   "metadata": {},
   "source": [
    "#### AutoLevelsAdjustment 自动调整色阶\n",
    "主要用于处理图像整体过暗或者过亮的问题。"
   ]
  },
  {
   "cell_type": "code",
   "execution_count": null,
   "metadata": {},
   "outputs": [],
   "source": [
    "from ModelHelper.Common.CommonUtils.ImageAugmentation import AutoLevelsAdjustment\n",
    "import cv2\n",
    "\n",
    "if __name__ == '__main__':\n",
    "    img_path = 'input3.jpg'\n",
    "    save_path = 'ala.jpg'\n",
    "    image = cv2.imread(img_path)\n",
    "    ala = AutoLevelsAdjustment()\n",
    "    ala_img = ala(image)\n",
    "    cv2.imwrite(save_path, ala_img)"
   ]
  },
  {
   "cell_type": "markdown",
   "metadata": {},
   "source": [
    "构建AutoLevelsAdjustment对象，ala = AutoLevelsAdjustment()。输入，输出图像如下所示：\n",
    "\n",
    "输入：\n",
    "<img src='imgs/input3.jpg'>\n",
    "\n",
    "输出:\n",
    "<img src='imgs/ala.jpg'>"
   ]
  },
  {
   "cell_type": "markdown",
   "metadata": {},
   "source": [
    "#### 光照补偿\n",
    "用于解决局部过渡曝光和曝光不足的问题。"
   ]
  },
  {
   "cell_type": "code",
   "execution_count": null,
   "metadata": {},
   "outputs": [],
   "source": [
    "from ModelHelper.Common.CommonUtils.ImageAugmentation import LightCompensate\n",
    "import cv2\n",
    "\n",
    "if __name__ == '__main__':\n",
    "    img_path = 'input4.jpg'\n",
    "    save_path = 'light_compensate.jpg'\n",
    "    image = cv2.imread(img_path)\n",
    "    light_compensate = LightCompensate()\n",
    "    output = light_compensate(image)\n",
    "    cv2.imwrite(save_path, output)"
   ]
  },
  {
   "cell_type": "markdown",
   "metadata": {},
   "source": [
    "首先构建ImageAugmentation对象，light_compensate = LightCompensate(block_size=10, blur_kernel=(3, 3), blur_sigma=1)；其中block_size\n",
    "block_size为可调节参数，blur_kernel为高斯，输出图像如下所示：\n",
    "\n",
    "输入：\n",
    "\n",
    "<img src='imgs/input4.jpg'>\n",
    "\n",
    "输出:\n",
    "<img src='imgs/light_compensate.jpg'>"
   ]
  },
  {
   "cell_type": "markdown",
   "metadata": {},
   "source": [
    "#### GaussianBlur 高斯模糊"
   ]
  },
  {
   "cell_type": "code",
   "execution_count": null,
   "metadata": {},
   "outputs": [],
   "source": [
    "from ModelHelper.Common.CommonUtils.ImageAugmentation import GaussianBlur\n",
    "import cv2\n",
    "\n",
    "if __name__ == '__main__':\n",
    "    img_path = 'input.jpg'\n",
    "    save_path = 'gaussian_blur_output.jpg'\n",
    "    image = cv2.imread(img_path)\n",
    "    gaussian_blur = GaussianBlur((5, 5), 0)\n",
    "    image = gaussian_blur(image)\n",
    "    cv2.imwrite(save_path, image)\n"
   ]
  },
  {
   "cell_type": "markdown",
   "metadata": {},
   "source": [
    "首先构建GaussianBlur对象，gaussian_blur = GaussianBlur((5, 5), 0)；其中（5，5）为高斯滤波器的大小，默认为（3，3）；0为模糊程度，默认为0。输入，输出图像如下所示：\n",
    "\n",
    "输入：\n",
    "\n",
    "<img src='imgs/input.jpg'>\n",
    "\n",
    "输出:\n",
    "<img src='imgs/gaussian_blur_output.jpg'>"
   ]
  },
  {
   "cell_type": "markdown",
   "metadata": {},
   "source": [
    "#### 椒盐噪声"
   ]
  },
  {
   "cell_type": "code",
   "execution_count": null,
   "metadata": {},
   "outputs": [],
   "source": [
    "from ModelHelper.Common.CommonUtils.ImageAugmentation import SaltNoise\n",
    "import cv2\n",
    "\n",
    "if __name__ == '__main__':\n",
    "    img_path = 'input.jpg'\n",
    "    save_path = 'salt_noise_output.jpg'\n",
    "    image = cv2.imread(img_path)\n",
    "    salt_noise = SaltNoise(0.2)\n",
    "    image = salt_noise(image)\n",
    "    cv2.imwrite(save_path, image)\n"
   ]
  },
  {
   "cell_type": "markdown",
   "metadata": {},
   "source": [
    "首先构建SaltNoise对象，salt_noise = SaltNoise(0.2)；其中0.2为添加的椒盐噪声数量与图片总像素数量的比例。输入，输出图像如下所示：\n",
    "\n",
    "输入：\n",
    "<img src='imgs/input.jpg'>\n",
    "\n",
    "输出:\n",
    "<img src='imgs/salt_noise_output.jpg'>"
   ]
  },
  {
   "cell_type": "markdown",
   "metadata": {},
   "source": [
    "#### Denoise 去噪\n",
    "主要用于去除OCR文本图像的椒盐噪声。"
   ]
  },
  {
   "cell_type": "code",
   "execution_count": null,
   "metadata": {},
   "outputs": [],
   "source": [
    "from ModelHelper.Common.CommonUtils.ImageAugmentation import Denoise, GaussianBlur, SaltNoise\n",
    "import cv2\n",
    "\n",
    "if __name__ == '__main__':\n",
    "    img_path = 'salt_noise.jpg'\n",
    "    save_path = 'denoise.jpg'\n",
    "    image = cv2.imread(img_path)\n",
    "    denoise = Denoise(blur_kernel=(3,3), blur_sigma=2, enhance_ratio=2)\n",
    "    dn = denoise(image)\n",
    "    cv2.imwrite(save_path, dn)\n"
   ]
  },
  {
   "cell_type": "markdown",
   "metadata": {},
   "source": [
    "首先构建Denoise对象，denoise = Denoise(blur_kernel=(3,3), blur_sigma=2, enhance_ratio=2)；其中blur_kernel为高斯核的大小，blur_sigma为高斯模糊的程度，值越大越模糊，enhance_ratio为图像轮廓信息对比度加强的程度。输入，输出图像如下所示：\n",
    "\n",
    "输入：\n",
    "<img src='imgs/salt_noise.jpg'>\n",
    "\n",
    "输出:\n",
    "<img src='imgs/denoise.jpg'>"
   ]
  },
  {
   "cell_type": "markdown",
   "metadata": {},
   "source": [
    "#### Padding 自动填充\n",
    "将输入的任意尺寸图像往上下或左右自动填充黑边并resize到固定尺寸，保持输入图像不发生形变。"
   ]
  },
  {
   "cell_type": "code",
   "execution_count": null,
   "metadata": {},
   "outputs": [],
   "source": [
    "from ModelHelper.Common.CommonUtils.ImageAugmentation import Padding\n",
    "import cv2\n",
    "\n",
    "if __name__ == '__main__':\n",
    "    img_path = 'input.jpg'\n",
    "    save_path = 'padding_output.jpg'\n",
    "    image = cv2.imread(img_path)\n",
    "    padding = Padding((1200, 600))\n",
    "    image = padding(image)\n",
    "    cv2.imwrite(save_path, image)\n"
   ]
  },
  {
   "cell_type": "markdown",
   "metadata": {},
   "source": [
    "首先构建Padding对象，padding = Padding((1200, 600))；其中(1200, 600)为输出图像的尺寸。输入，输出图像如下所示：\n",
    "\n",
    "输入：\n",
    "<img src='imgs/input.jpg'>\n",
    "\n",
    "输出:\n",
    "<img src='imgs/padding_output.jpg'>\n",
    "#### RandomPadding 随机填充\n",
    "将图像的上下左右随机填充一定尺寸的黑边，并resize输出图像到输入图像册尺寸，图像会发生一定程度的形变。"
   ]
  },
  {
   "cell_type": "code",
   "execution_count": null,
   "metadata": {},
   "outputs": [],
   "source": [
    "from ModelHelper.Common.CommonUtils.ImageAugmentation import RandomPadding\n",
    "import cv2\n",
    "\n",
    "if __name__ == '__main__':\n",
    "    img_path = 'input.jpg'\n",
    "    save_path = 'random_padding_output.jpg'\n",
    "    image = cv2.imread(img_path)\n",
    "    random_padding = RandomPadding(100, 100, 200, 200)\n",
    "    image = random_padding(image)\n",
    "    cv2.imwrite(save_path, image)\n"
   ]
  },
  {
   "cell_type": "markdown",
   "metadata": {},
   "source": [
    "首先构建RandomPadding对象，random_padding = RandomPadding(100, 100, 200, 200)；其中100,100,200,200为上下左右填充黑边的最大尺寸。输入，输出图像如下所示：\n",
    "\n",
    "输入：\n",
    "<img src='imgs/input.jpg'>\n",
    "\n",
    "输出:\n",
    "<img src='imgs/random_padding_output.jpg'>"
   ]
  }
 ],
 "metadata": {
  "kernelspec": {
   "display_name": "Python 3",
   "language": "python",
   "name": "python3"
  },
  "language_info": {
   "codemirror_mode": {
    "name": "ipython",
    "version": 3
   },
   "file_extension": ".py",
   "mimetype": "text/x-python",
   "name": "python",
   "nbconvert_exporter": "python",
   "pygments_lexer": "ipython3",
   "version": "3.6.8"
  }
 },
 "nbformat": 4,
 "nbformat_minor": 2
}
