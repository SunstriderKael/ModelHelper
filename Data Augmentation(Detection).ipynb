{
 "cells": [
  {
   "cell_type": "markdown",
   "metadata": {},
   "source": [
    "#### DetectionCompose"
   ]
  },
  {
   "cell_type": "code",
   "execution_count": null,
   "metadata": {},
   "outputs": [],
   "source": [
    "from ModelHelper.Detection.DetectionUtils.DataAugmentation import DetectionCompose, RandomCrop, CenterRotate\n",
    "from ModelHelper.Common.CommonUtils.HandleImage import cv2pil\n",
    "import cv2\n",
    "import numpy as np\n",
    "from PIL import ImageDraw\n",
    "\n",
    "\n",
    "def draw_img(image, qua_array, save_path, color=(255, 0, 0)):\n",
    "    draw = ImageDraw.Draw(image)\n",
    "    qua_num = qua_array.shape[0]\n",
    "    for idx in range(qua_num):\n",
    "        array = qua_array[idx, :, :]\n",
    "        poly = (array[0][0], array[0][1], array[1][0], array[1][1],\n",
    "                array[2][0], array[2][1], array[3][0], array[3][1],)\n",
    "    draw.polygon(poly, outline=color)\n",
    "    image.save(save_path)\n",
    "\n",
    "\n",
    "if __name__ == '__main__':\n",
    "    img_path = 'input2.jpg'\n",
    "    qua_array = np.zeros((1, 4, 2), dtype=np.int32)\n",
    "    qua_array[0][0][0] = 100\n",
    "    qua_array[0][0][1] = 100\n",
    "    qua_array[0][1][0] = 360\n",
    "    qua_array[0][1][1] = 100\n",
    "    qua_array[0][2][0] = 360\n",
    "    qua_array[0][2][1] = 150\n",
    "    qua_array[0][3][0] = 100\n",
    "    qua_array[0][3][1] = 150\n",
    "    image = cv2.imread(img_path)\n",
    "    image_pil = cv2pil(image)\n",
    "    draw_img(image_pil, qua_array, 'input2_draw.jpg')\n",
    "    detection_compose = DetectionCompose([RandomCrop((1, 4), (600, 400)),\n",
    "                                          CenterRotate((-30, 30))])\n",
    "    image, qua_array = detection_compose(image, qua_array)\n",
    "    image_pil = cv2pil(image)\n",
    "    draw_img(image_pil, qua_array, 'detection_compose.jpg')"
   ]
  },
  {
   "cell_type": "markdown",
   "metadata": {},
   "source": [
    "<img src='imgs/input2_draw.jpg'>\n",
    "<img src='imgs/detection_compose.jpg'>"
   ]
  },
  {
   "cell_type": "markdown",
   "metadata": {},
   "source": [
    "#### Resize"
   ]
  },
  {
   "cell_type": "code",
   "execution_count": null,
   "metadata": {},
   "outputs": [],
   "source": [
    "from ModelHelper.Detection.DetectionUtils.DataAugmentation import Resize\n",
    "from ModelHelper.Common.CommonUtils.HandleImage import cv2pil\n",
    "import cv2\n",
    "import numpy as np\n",
    "from PIL import ImageDraw\n",
    "\n",
    "\n",
    "def draw_img(image, qua_array, save_path, color=(255, 0, 0)):\n",
    "    draw = ImageDraw.Draw(image)\n",
    "    qua_num = qua_array.shape[0]\n",
    "    for idx in range(qua_num):\n",
    "        array = qua_array[idx, :, :]\n",
    "        poly = (array[0][0], array[0][1], array[1][0], array[1][1],\n",
    "                array[2][0], array[2][1], array[3][0], array[3][1],)\n",
    "    draw.polygon(poly, outline=color)\n",
    "    image.save(save_path)\n",
    "\n",
    "\n",
    "if __name__ == '__main__':\n",
    "    img_path = 'input2.jpg'\n",
    "    qua_array = np.zeros((1, 4, 2), dtype=np.int32)\n",
    "    qua_array[0][0][0] = 100\n",
    "    qua_array[0][0][1] = 100\n",
    "    qua_array[0][1][0] = 360\n",
    "    qua_array[0][1][1] = 100\n",
    "    qua_array[0][2][0] = 360\n",
    "    qua_array[0][2][1] = 150\n",
    "    qua_array[0][3][0] = 100\n",
    "    qua_array[0][3][1] = 150\n",
    "    image = cv2.imread(img_path)\n",
    "    image_pil = cv2pil(image)\n",
    "    draw_img(image_pil, qua_array, 'input2_draw.jpg')\n",
    "    resize = Resize((700, 700))\n",
    "    image, qua_array = resize(image, qua_array)\n",
    "    image_pil = cv2pil(image)\n",
    "    draw_img(image_pil, qua_array, 'resize_draw.jpg')"
   ]
  },
  {
   "cell_type": "markdown",
   "metadata": {},
   "source": [
    "<img src='imgs/input2_draw.jpg'>\n",
    "<img src='imgs/resize_draw.jpg'>"
   ]
  },
  {
   "cell_type": "markdown",
   "metadata": {},
   "source": [
    "#### RandomCrop"
   ]
  },
  {
   "cell_type": "code",
   "execution_count": null,
   "metadata": {},
   "outputs": [],
   "source": [
    "from ModelHelper.Detection.DetectionUtils.DataAugmentation import RandomCrop\n",
    "from ModelHelper.Common.CommonUtils.HandleImage import cv2pil\n",
    "import cv2\n",
    "import numpy as np\n",
    "from PIL import ImageDraw\n",
    "\n",
    "\n",
    "def draw_img(image, qua_array, save_path, color=(255, 0, 0)):\n",
    "    draw = ImageDraw.Draw(image)\n",
    "    qua_num = qua_array.shape[0]\n",
    "    for idx in range(qua_num):\n",
    "        array = qua_array[idx, :, :]\n",
    "        poly = (array[0][0], array[0][1], array[1][0], array[1][1],\n",
    "                array[2][0], array[2][1], array[3][0], array[3][1],)\n",
    "    draw.polygon(poly, outline=color)\n",
    "    image.save(save_path)\n",
    "\n",
    "\n",
    "if __name__ == '__main__':\n",
    "    img_path = 'input2.jpg'\n",
    "    qua_array = np.zeros((1, 4, 2), dtype=np.int32)\n",
    "    qua_array[0][0][0] = 100\n",
    "    qua_array[0][0][1] = 100\n",
    "    qua_array[0][1][0] = 360\n",
    "    qua_array[0][1][1] = 100\n",
    "    qua_array[0][2][0] = 360\n",
    "    qua_array[0][2][1] = 150\n",
    "    qua_array[0][3][0] = 100\n",
    "    qua_array[0][3][1] = 150\n",
    "    image = cv2.imread(img_path)\n",
    "    image_pil = cv2pil(image)\n",
    "    draw_img(image_pil, qua_array, 'input2_draw.jpg')\n",
    "    random_crop = RandomCrop((1, 4), (500, 500))\n",
    "    image, qua_array = random_crop(image, qua_array)\n",
    "    image_pil = cv2pil(image)\n",
    "    draw_img(image_pil, qua_array, 'random_crop.jpg')"
   ]
  },
  {
   "cell_type": "markdown",
   "metadata": {},
   "source": [
    "<img src='imgs/input2_draw.jpg'>\n",
    "<img src='imgs/random_crop.jpg'>"
   ]
  },
  {
   "cell_type": "markdown",
   "metadata": {},
   "source": [
    "#### CenterRotate"
   ]
  },
  {
   "cell_type": "code",
   "execution_count": null,
   "metadata": {},
   "outputs": [],
   "source": [
    "from ModelHelper.Detection.DetectionUtils.DataAugmentation import CenterRotate\n",
    "from ModelHelper.Common.CommonUtils.HandleImage import cv2pil\n",
    "import cv2\n",
    "import numpy as np\n",
    "from PIL import ImageDraw\n",
    "\n",
    "\n",
    "def draw_img(image, qua_array, save_path, color=(255, 0, 0)):\n",
    "    draw = ImageDraw.Draw(image)\n",
    "    qua_num = qua_array.shape[0]\n",
    "    for idx in range(qua_num):\n",
    "        array = qua_array[idx, :, :]\n",
    "        poly = (array[0][0], array[0][1], array[1][0], array[1][1],\n",
    "                array[2][0], array[2][1], array[3][0], array[3][1],)\n",
    "    draw.polygon(poly, outline=color)\n",
    "    image.save(save_path)\n",
    "\n",
    "\n",
    "if __name__ == '__main__':\n",
    "    img_path = 'input2.jpg'\n",
    "    qua_array = np.zeros((1, 4, 2), dtype=np.int32)\n",
    "    qua_array[0][0][0] = 100\n",
    "    qua_array[0][0][1] = 100\n",
    "    qua_array[0][1][0] = 360\n",
    "    qua_array[0][1][1] = 100\n",
    "    qua_array[0][2][0] = 360\n",
    "    qua_array[0][2][1] = 150\n",
    "    qua_array[0][3][0] = 100\n",
    "    qua_array[0][3][1] = 150\n",
    "    image = cv2.imread(img_path)\n",
    "    image_pil = cv2pil(image)\n",
    "    draw_img(image_pil, qua_array, 'input2_draw.jpg')\n",
    "    center_rotate = CenterRotate((-30, 30))\n",
    "    image, qua_array = center_rotate(image, qua_array)\n",
    "    image_pil = cv2pil(image)\n",
    "    draw_img(image_pil, qua_array, 'center_rotate.jpg')"
   ]
  },
  {
   "cell_type": "markdown",
   "metadata": {},
   "source": [
    "<img src='imgs/input2_draw.jpg'>\n",
    "<img src='imgs/center_rotate.jpg'>"
   ]
  },
  {
   "cell_type": "markdown",
   "metadata": {},
   "source": [
    "#### Flip"
   ]
  },
  {
   "cell_type": "code",
   "execution_count": null,
   "metadata": {},
   "outputs": [],
   "source": [
    "from ModelHelper.Detection.DetectionUtils.DataAugmentation import Flip\n",
    "from ModelHelper.Common.CommonUtils.HandleImage import cv2pil\n",
    "import cv2\n",
    "import numpy as np\n",
    "from PIL import ImageDraw\n",
    "\n",
    "\n",
    "def draw_img(image, qua_array, save_path, color=(255, 0, 0)):\n",
    "    draw = ImageDraw.Draw(image)\n",
    "    qua_num = qua_array.shape[0]\n",
    "    for idx in range(qua_num):\n",
    "        array = qua_array[idx, :, :]\n",
    "        poly = (array[0][0], array[0][1], array[1][0], array[1][1],\n",
    "                array[2][0], array[2][1], array[3][0], array[3][1],)\n",
    "    draw.polygon(poly, outline=color)\n",
    "    image.save(save_path)\n",
    "\n",
    "\n",
    "if __name__ == '__main__':\n",
    "    img_path = 'input2.jpg'\n",
    "    qua_array = np.zeros((1, 4, 2), dtype=np.int32)\n",
    "    qua_array[0][0][0] = 100\n",
    "    qua_array[0][0][1] = 100\n",
    "    qua_array[0][1][0] = 360\n",
    "    qua_array[0][1][1] = 100\n",
    "    qua_array[0][2][0] = 360\n",
    "    qua_array[0][2][1] = 150\n",
    "    qua_array[0][3][0] = 100\n",
    "    qua_array[0][3][1] = 150\n",
    "    image = cv2.imread(img_path)\n",
    "    image_pil = cv2pil(image)\n",
    "    draw_img(image_pil, qua_array, 'input2_draw.jpg')\n",
    "    flip = Flip('Horizontal', 1)\n",
    "    image, qua_array = flip(image, qua_array)\n",
    "    image_pil = cv2pil(image)\n",
    "    draw_img(image_pil, qua_array, 'flip.jpg')\n"
   ]
  },
  {
   "cell_type": "markdown",
   "metadata": {},
   "source": [
    "<img src='imgs/input2_draw.jpg'>\n",
    "<img src='imgs/flip.jpg'>"
   ]
  },
  {
   "cell_type": "markdown",
   "metadata": {},
   "source": [
    "#### Padding"
   ]
  },
  {
   "cell_type": "code",
   "execution_count": null,
   "metadata": {},
   "outputs": [],
   "source": [
    "from ModelHelper.Detection.DetectionUtils.DataAugmentation import Padding\n",
    "from ModelHelper.Common.CommonUtils.HandleImage import cv2pil\n",
    "import cv2\n",
    "import numpy as np\n",
    "from PIL import ImageDraw\n",
    "\n",
    "\n",
    "def draw_img(image, qua_array, save_path, color=(255, 0, 0)):\n",
    "    draw = ImageDraw.Draw(image)\n",
    "    qua_num = qua_array.shape[0]\n",
    "    for idx in range(qua_num):\n",
    "        array = qua_array[idx, :, :]\n",
    "        poly = (array[0][0], array[0][1], array[1][0], array[1][1],\n",
    "                array[2][0], array[2][1], array[3][0], array[3][1],)\n",
    "    draw.polygon(poly, outline=color)\n",
    "    image.save(save_path)\n",
    "\n",
    "\n",
    "if __name__ == '__main__':\n",
    "    img_path = 'input2.jpg'\n",
    "    qua_array = np.zeros((1, 4, 2), dtype=np.int32)\n",
    "    qua_array[0][0][0] = 100\n",
    "    qua_array[0][0][1] = 100\n",
    "    qua_array[0][1][0] = 360\n",
    "    qua_array[0][1][1] = 100\n",
    "    qua_array[0][2][0] = 360\n",
    "    qua_array[0][2][1] = 150\n",
    "    qua_array[0][3][0] = 100\n",
    "    qua_array[0][3][1] = 150\n",
    "    image = cv2.imread(img_path)\n",
    "    image_pil = cv2pil(image)\n",
    "    draw_img(image_pil, qua_array, 'input2_draw.jpg')\n",
    "    padding = Padding((768, 768))\n",
    "    image, qua_array = padding(image, qua_array)\n",
    "    image_pil = cv2pil(image)\n",
    "    draw_img(image_pil, qua_array, 'padding.jpg')"
   ]
  },
  {
   "cell_type": "markdown",
   "metadata": {},
   "source": [
    "<img src='imgs/input2_draw.jpg'>\n",
    "<img src='imgs/padding.jpg'>"
   ]
  },
  {
   "cell_type": "code",
   "execution_count": null,
   "metadata": {},
   "outputs": [],
   "source": []
  }
 ],
 "metadata": {
  "kernelspec": {
   "display_name": "Python 3",
   "language": "python",
   "name": "python3"
  },
  "language_info": {
   "codemirror_mode": {
    "name": "ipython",
    "version": 3
   },
   "file_extension": ".py",
   "mimetype": "text/x-python",
   "name": "python",
   "nbconvert_exporter": "python",
   "pygments_lexer": "ipython3",
   "version": "3.6.8"
  }
 },
 "nbformat": 4,
 "nbformat_minor": 2
}
